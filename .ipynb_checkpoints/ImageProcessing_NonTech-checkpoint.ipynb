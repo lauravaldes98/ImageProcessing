{
 "cells": [
  {
   "cell_type": "code",
   "execution_count": 12,
   "id": "heard-apache",
   "metadata": {},
   "outputs": [],
   "source": [
    "import imageio\n",
    "import pywt\n",
    "import skimage as sci\n",
    "import numpy as np\n",
    "import radiomics \n",
    "import pydicom\n",
    "import matplotlib.pyplot as plt\n",
    "import cv2\n",
    "from skimage.io import imread\n",
    "from skimage.color import rgb2gray\n",
    "from scipy import ndimage\n",
    "from sklearn.decomposition import PCA\n",
    "from sklearn.preprocessing import normalize\n",
    "from collections import OrderedDict\n",
    "import pandas as pd\n",
    "import os\n",
    "import SimpleITK as sitk\n",
    "import six\n",
    "from radiomics import firstorder, getTestCase, glcm, glrlm, glszm, imageoperations, shape\n",
    "from radiomics import featureextractor"
   ]
  },
  {
   "cell_type": "code",
   "execution_count": 18,
   "id": "honest-serve",
   "metadata": {},
   "outputs": [],
   "source": [
    "###########Functions#################\n",
    "\n",
    "def BinaryImagedcm(imagen):\n",
    "    im= pydicom.dcmread(imagen)\n",
    "    ima=im.pixel_array\n",
    "    imag = cv2.cvtColor(ima, cv2.COLOR_BGR2GRAY)/255\n",
    "    crop = imag[90:583,266:495]\n",
    "    for i in range(0,98):\n",
    "        for j in range(0,229):\n",
    "               crop[i,j]=0\n",
    "    for k in range(350,493):\n",
    "        for l in range(0,229):\n",
    "               crop[k,l]=0\n",
    "    _, binary1 = cv2.threshold(crop, 0, 1, cv2.THRESH_BINARY)\n",
    "    return binary1,crop\n",
    "\n",
    "def BinaryImagebmp(imagen):\n",
    "    val = cv2.imread(imagen)  \n",
    "    imagen1 = cv2.cvtColor(val, cv2.COLOR_BGR2GRAY)/255\n",
    "\n",
    "    for i in range(0,90):\n",
    "        for j in range(0,840):\n",
    "               imagen1[i,j]=0\n",
    "    for k in range(450,630):\n",
    "        for l in range(0,840):\n",
    "               imagen1[k,l]=0            \n",
    "    _, binary1 = cv2.threshold(imagen1, 0, 1, cv2.THRESH_BINARY)\n",
    "    return binary1, imagen1\n",
    "    \n",
    "\n",
    "def FeatureExtractionOriginal(imagen,binaria):\n",
    "    settings =  { 'normalize':True }\n",
    "    feat1=sitk.GetImageFromArray(imagen, isVector=False)\n",
    "    feat2=sitk.GetImageFromArray(binaria, isVector=False)\n",
    "    extractor = featureextractor.RadiomicsFeatureExtractor(**settings)\n",
    "    featureVector = extractor.execute(feat1, feat2)\n",
    "    names = list(featureVector.keys())\n",
    "    featureVector = list(featureVector.values())\n",
    "    return names, featureVector\n",
    "        "
   ]
  },
  {
   "cell_type": "code",
   "execution_count": 19,
   "id": "statutory-force",
   "metadata": {},
   "outputs": [
    {
     "name": "stderr",
     "output_type": "stream",
     "text": [
      "Shape features are only available 3D input (for 2D input, use shape2D). Found 2D input\n",
      "GLCM is symmetrical, therefore Sum Average = 2 * Joint Average, only 1 needs to be calculated\n",
      "Shape features are only available 3D input (for 2D input, use shape2D). Found 2D input\n",
      "GLCM is symmetrical, therefore Sum Average = 2 * Joint Average, only 1 needs to be calculated\n",
      "Shape features are only available 3D input (for 2D input, use shape2D). Found 2D input\n",
      "GLCM is symmetrical, therefore Sum Average = 2 * Joint Average, only 1 needs to be calculated\n"
     ]
    }
   ],
   "source": [
    "###########################Image Processing##############################\n",
    "binary, crop = BinaryImagedcm('P5.0') #sick\n",
    "names, featureVector= FeatureExtractionOriginal(crop, binary)\n",
    "\n",
    "binary1, crop1 = BinaryImagedcm('P5.1') #sick\n",
    "names, featureVector1= FeatureExtractionOriginal(crop1, binary1)\n",
    "\n",
    "binary2, crop2 = BinaryImagebmp('imagen16.bmp') #sick\n",
    "names, featurevector2 = FeatureExtractionOriginal(crop2, binary2)\n",
    "\n",
    "binary3, crop3 = BinaryImagedcm('P6.2') #sick\n",
    "names, featureVector3= FeatureExtractionOriginal(crop3, binary3)\n",
    "\n",
    "binary4, crop4 = BinaryImagedcm('P7.2') #sick\n",
    "names, featureVector5= FeatureExtractionOriginal(crop4, binary4)"
   ]
  },
  {
   "cell_type": "code",
   "execution_count": null,
   "id": "important-senior",
   "metadata": {},
   "outputs": [],
   "source": []
  }
 ],
 "metadata": {
  "kernelspec": {
   "display_name": "Python 3",
   "language": "python",
   "name": "python3"
  },
  "language_info": {
   "codemirror_mode": {
    "name": "ipython",
    "version": 3
   },
   "file_extension": ".py",
   "mimetype": "text/x-python",
   "name": "python",
   "nbconvert_exporter": "python",
   "pygments_lexer": "ipython3",
   "version": "3.8.5"
  }
 },
 "nbformat": 4,
 "nbformat_minor": 5
}
